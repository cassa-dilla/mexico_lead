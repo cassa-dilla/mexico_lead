{
 "cells": [
  {
   "cell_type": "code",
   "execution_count": 1,
   "metadata": {
    "colab": {
     "base_uri": "https://localhost:8080/"
    },
    "id": "bTE8ots_Hu9q",
    "outputId": "81dcd1a7-85f6-40a7-cbfc-cea570b831ae"
   },
   "outputs": [
    {
     "name": "stdout",
     "output_type": "stream",
     "text": [
      "Mounted at /content/drive\n"
     ]
    }
   ],
   "source": [
    "# Import libraries\n",
    "import pandas as pd\n",
    "import numpy as np\n",
    "from plotnine import *"
   ]
  },
  {
   "cell_type": "markdown",
   "metadata": {
    "id": "ykQXGGlN2qkz"
   },
   "source": [
    "# Blood Lead Levels in 2018 (from ENSANUT)\n",
    "\n",
    "https://en.www.inegi.org.mx/programas/ensanut/2018/#tabular_data\n",
    "\n",
    "https://en.www.inegi.org.mx/programas/ensanut/2018/#tabular_data\n",
    "\n",
    "https://en.www.inegi.org.mx/contenidos/programas/ensanut/2018/doc/ensanut_2018_estructura_bd.pdf"
   ]
  },
  {
   "cell_type": "markdown",
   "metadata": {
    "id": "wBnSnIO1Pu2M"
   },
   "source": [
    "UPM = Unidad Primaria de Muestreo (Sampling Unit)\n",
    "\n",
    "VIV_SEL = Vivienda Seleccionada (Selected Household)\n",
    "\n",
    "HOGAR = Numero de Hogar (Household Number)\n",
    "\n",
    "NUMREN = Numero de Renglon (Row Number)\n",
    "\n",
    "P9 = Anotar la concentraction de plomo (Record the lead concentration) (00.00...36.60) 99.90 -> not specified\n",
    "\n",
    "P10 = (NOMBRE) tuvo valores elevados de plomo en sangre. ¿A qué cree usted que se debe esto? ((NAME) had elevated blood lead levels. What do you think could be the cause of this?)\n",
    "* 1 -> \"Al uso de cazuela, ollas, platos u otros trastes de barro vidriado\" translates to \"Using glazed clay\n",
    " pots, pans, plates, or other clayware\" in English.\n",
    "* 2 -> \"Otro (especifica)\" means \"Other (specify)\".\n",
    "* 9 -> \"No sabe\" translates to \"Don't know\".\n",
    "\n",
    "P10D = Specify\n",
    "\n",
    "EDAD = Age\n",
    "\n",
    "SEXO = 1 if male, 2 if female\n",
    "\n",
    "ENT = Clave de Entidad Federativa (translates to \"Federal Entity Code,\" which likely refers to the code assigned to the state or province 1-32)\n",
    "\n",
    "DOMINIO = Domain (1 if urban, 2 if rural)\n",
    "\n",
    "ALTITUD = Altitude in Meters\n",
    "\n",
    "REGION = refers to \"Region.\" (1 = North, 2 = Center, 3 = Mexico City, 4 = South)\n",
    "\n",
    "EST_DIS = \"Estrato de diseño\" translates to \"Design Stratum.\"\n",
    "\n",
    "UPM_DIS = \"UPM de diseño\" means \"Design Primary Sampling Unit.\"\n",
    "\n",
    "ESTRATO = \"Estrato sociodemográfico\" refers to \"Sociodemographic Stratum.\" (1 to 4)\n",
    "\n",
    "FACTOR_MC = \"Factor muestra capilar\" translates to \"Capillary Sample Factor.\"\n",
    "\n",
    "P6_ANT = \"¿Usted\" means \"You.\"\n",
    "\n",
    "P7_1_ANT \"¿Cuántos meses tiene de embarazo?\" translates to \"How many months pregnant are you?\"\n",
    "\n",
    "DIAS = \"Diferencia en días entre la fecha de nacimiento y la fecha de levantamiento del cuestionario\" means \"Difference in days between the date of birth and the date the questionnaire was completed.\""
   ]
  },
  {
   "cell_type": "code",
   "execution_count": 4,
   "metadata": {
    "colab": {
     "base_uri": "https://localhost:8080/",
     "height": 299
    },
    "id": "syU2rn6WOsk1",
    "outputId": "df49862b-4f3a-4664-a355-1d40e3247568"
   },
   "outputs": [
    {
     "ename": "FileNotFoundError",
     "evalue": "[Errno 2] No such file or directory: '/content/drive/MyDrive/Reuters/Stanford_lead_2024/Data/CN_MUESAN_PLOMO.csv'",
     "output_type": "error",
     "traceback": [
      "\u001b[0;31m---------------------------------------------------------------------------\u001b[0m",
      "\u001b[0;31mFileNotFoundError\u001b[0m                         Traceback (most recent call last)",
      "\u001b[0;32m<ipython-input-4-cc86a8261090>\u001b[0m in \u001b[0;36m<cell line: 1>\u001b[0;34m()\u001b[0m\n\u001b[0;32m----> 1\u001b[0;31m \u001b[0mdf\u001b[0m \u001b[0;34m=\u001b[0m \u001b[0mpd\u001b[0m\u001b[0;34m.\u001b[0m\u001b[0mread_csv\u001b[0m\u001b[0;34m(\u001b[0m\u001b[0;34m\"/content/drive/MyDrive/Reuters/Stanford_lead_2024/Data/CN_MUESAN_PLOMO.csv\"\u001b[0m\u001b[0;34m,\u001b[0m \u001b[0mheader\u001b[0m\u001b[0;34m=\u001b[0m\u001b[0;36m1\u001b[0m\u001b[0;34m)\u001b[0m\u001b[0;34m\u001b[0m\u001b[0;34m\u001b[0m\u001b[0m\n\u001b[0m\u001b[1;32m      2\u001b[0m \u001b[0mdf\u001b[0m\u001b[0;34m\u001b[0m\u001b[0;34m\u001b[0m\u001b[0m\n",
      "\u001b[0;32m/usr/local/lib/python3.10/dist-packages/pandas/io/parsers/readers.py\u001b[0m in \u001b[0;36mread_csv\u001b[0;34m(filepath_or_buffer, sep, delimiter, header, names, index_col, usecols, dtype, engine, converters, true_values, false_values, skipinitialspace, skiprows, skipfooter, nrows, na_values, keep_default_na, na_filter, verbose, skip_blank_lines, parse_dates, infer_datetime_format, keep_date_col, date_parser, date_format, dayfirst, cache_dates, iterator, chunksize, compression, thousands, decimal, lineterminator, quotechar, quoting, doublequote, escapechar, comment, encoding, encoding_errors, dialect, on_bad_lines, delim_whitespace, low_memory, memory_map, float_precision, storage_options, dtype_backend)\u001b[0m\n\u001b[1;32m    946\u001b[0m     \u001b[0mkwds\u001b[0m\u001b[0;34m.\u001b[0m\u001b[0mupdate\u001b[0m\u001b[0;34m(\u001b[0m\u001b[0mkwds_defaults\u001b[0m\u001b[0;34m)\u001b[0m\u001b[0;34m\u001b[0m\u001b[0;34m\u001b[0m\u001b[0m\n\u001b[1;32m    947\u001b[0m \u001b[0;34m\u001b[0m\u001b[0m\n\u001b[0;32m--> 948\u001b[0;31m     \u001b[0;32mreturn\u001b[0m \u001b[0m_read\u001b[0m\u001b[0;34m(\u001b[0m\u001b[0mfilepath_or_buffer\u001b[0m\u001b[0;34m,\u001b[0m \u001b[0mkwds\u001b[0m\u001b[0;34m)\u001b[0m\u001b[0;34m\u001b[0m\u001b[0;34m\u001b[0m\u001b[0m\n\u001b[0m\u001b[1;32m    949\u001b[0m \u001b[0;34m\u001b[0m\u001b[0m\n\u001b[1;32m    950\u001b[0m \u001b[0;34m\u001b[0m\u001b[0m\n",
      "\u001b[0;32m/usr/local/lib/python3.10/dist-packages/pandas/io/parsers/readers.py\u001b[0m in \u001b[0;36m_read\u001b[0;34m(filepath_or_buffer, kwds)\u001b[0m\n\u001b[1;32m    609\u001b[0m \u001b[0;34m\u001b[0m\u001b[0m\n\u001b[1;32m    610\u001b[0m     \u001b[0;31m# Create the parser.\u001b[0m\u001b[0;34m\u001b[0m\u001b[0;34m\u001b[0m\u001b[0m\n\u001b[0;32m--> 611\u001b[0;31m     \u001b[0mparser\u001b[0m \u001b[0;34m=\u001b[0m \u001b[0mTextFileReader\u001b[0m\u001b[0;34m(\u001b[0m\u001b[0mfilepath_or_buffer\u001b[0m\u001b[0;34m,\u001b[0m \u001b[0;34m**\u001b[0m\u001b[0mkwds\u001b[0m\u001b[0;34m)\u001b[0m\u001b[0;34m\u001b[0m\u001b[0;34m\u001b[0m\u001b[0m\n\u001b[0m\u001b[1;32m    612\u001b[0m \u001b[0;34m\u001b[0m\u001b[0m\n\u001b[1;32m    613\u001b[0m     \u001b[0;32mif\u001b[0m \u001b[0mchunksize\u001b[0m \u001b[0;32mor\u001b[0m \u001b[0miterator\u001b[0m\u001b[0;34m:\u001b[0m\u001b[0;34m\u001b[0m\u001b[0;34m\u001b[0m\u001b[0m\n",
      "\u001b[0;32m/usr/local/lib/python3.10/dist-packages/pandas/io/parsers/readers.py\u001b[0m in \u001b[0;36m__init__\u001b[0;34m(self, f, engine, **kwds)\u001b[0m\n\u001b[1;32m   1446\u001b[0m \u001b[0;34m\u001b[0m\u001b[0m\n\u001b[1;32m   1447\u001b[0m         \u001b[0mself\u001b[0m\u001b[0;34m.\u001b[0m\u001b[0mhandles\u001b[0m\u001b[0;34m:\u001b[0m \u001b[0mIOHandles\u001b[0m \u001b[0;34m|\u001b[0m \u001b[0;32mNone\u001b[0m \u001b[0;34m=\u001b[0m \u001b[0;32mNone\u001b[0m\u001b[0;34m\u001b[0m\u001b[0;34m\u001b[0m\u001b[0m\n\u001b[0;32m-> 1448\u001b[0;31m         \u001b[0mself\u001b[0m\u001b[0;34m.\u001b[0m\u001b[0m_engine\u001b[0m \u001b[0;34m=\u001b[0m \u001b[0mself\u001b[0m\u001b[0;34m.\u001b[0m\u001b[0m_make_engine\u001b[0m\u001b[0;34m(\u001b[0m\u001b[0mf\u001b[0m\u001b[0;34m,\u001b[0m \u001b[0mself\u001b[0m\u001b[0;34m.\u001b[0m\u001b[0mengine\u001b[0m\u001b[0;34m)\u001b[0m\u001b[0;34m\u001b[0m\u001b[0;34m\u001b[0m\u001b[0m\n\u001b[0m\u001b[1;32m   1449\u001b[0m \u001b[0;34m\u001b[0m\u001b[0m\n\u001b[1;32m   1450\u001b[0m     \u001b[0;32mdef\u001b[0m \u001b[0mclose\u001b[0m\u001b[0;34m(\u001b[0m\u001b[0mself\u001b[0m\u001b[0;34m)\u001b[0m \u001b[0;34m->\u001b[0m \u001b[0;32mNone\u001b[0m\u001b[0;34m:\u001b[0m\u001b[0;34m\u001b[0m\u001b[0;34m\u001b[0m\u001b[0m\n",
      "\u001b[0;32m/usr/local/lib/python3.10/dist-packages/pandas/io/parsers/readers.py\u001b[0m in \u001b[0;36m_make_engine\u001b[0;34m(self, f, engine)\u001b[0m\n\u001b[1;32m   1703\u001b[0m                 \u001b[0;32mif\u001b[0m \u001b[0;34m\"b\"\u001b[0m \u001b[0;32mnot\u001b[0m \u001b[0;32min\u001b[0m \u001b[0mmode\u001b[0m\u001b[0;34m:\u001b[0m\u001b[0;34m\u001b[0m\u001b[0;34m\u001b[0m\u001b[0m\n\u001b[1;32m   1704\u001b[0m                     \u001b[0mmode\u001b[0m \u001b[0;34m+=\u001b[0m \u001b[0;34m\"b\"\u001b[0m\u001b[0;34m\u001b[0m\u001b[0;34m\u001b[0m\u001b[0m\n\u001b[0;32m-> 1705\u001b[0;31m             self.handles = get_handle(\n\u001b[0m\u001b[1;32m   1706\u001b[0m                 \u001b[0mf\u001b[0m\u001b[0;34m,\u001b[0m\u001b[0;34m\u001b[0m\u001b[0;34m\u001b[0m\u001b[0m\n\u001b[1;32m   1707\u001b[0m                 \u001b[0mmode\u001b[0m\u001b[0;34m,\u001b[0m\u001b[0;34m\u001b[0m\u001b[0;34m\u001b[0m\u001b[0m\n",
      "\u001b[0;32m/usr/local/lib/python3.10/dist-packages/pandas/io/common.py\u001b[0m in \u001b[0;36mget_handle\u001b[0;34m(path_or_buf, mode, encoding, compression, memory_map, is_text, errors, storage_options)\u001b[0m\n\u001b[1;32m    861\u001b[0m         \u001b[0;32mif\u001b[0m \u001b[0mioargs\u001b[0m\u001b[0;34m.\u001b[0m\u001b[0mencoding\u001b[0m \u001b[0;32mand\u001b[0m \u001b[0;34m\"b\"\u001b[0m \u001b[0;32mnot\u001b[0m \u001b[0;32min\u001b[0m \u001b[0mioargs\u001b[0m\u001b[0;34m.\u001b[0m\u001b[0mmode\u001b[0m\u001b[0;34m:\u001b[0m\u001b[0;34m\u001b[0m\u001b[0;34m\u001b[0m\u001b[0m\n\u001b[1;32m    862\u001b[0m             \u001b[0;31m# Encoding\u001b[0m\u001b[0;34m\u001b[0m\u001b[0;34m\u001b[0m\u001b[0m\n\u001b[0;32m--> 863\u001b[0;31m             handle = open(\n\u001b[0m\u001b[1;32m    864\u001b[0m                 \u001b[0mhandle\u001b[0m\u001b[0;34m,\u001b[0m\u001b[0;34m\u001b[0m\u001b[0;34m\u001b[0m\u001b[0m\n\u001b[1;32m    865\u001b[0m                 \u001b[0mioargs\u001b[0m\u001b[0;34m.\u001b[0m\u001b[0mmode\u001b[0m\u001b[0;34m,\u001b[0m\u001b[0;34m\u001b[0m\u001b[0;34m\u001b[0m\u001b[0m\n",
      "\u001b[0;31mFileNotFoundError\u001b[0m: [Errno 2] No such file or directory: '/content/drive/MyDrive/Reuters/Stanford_lead_2024/Data/CN_MUESAN_PLOMO.csv'"
     ]
    }
   ],
   "source": [
    "df = pd.read_csv(\"Data/CN_MUESAN_PLOMO.csv\", header=1)\n",
    "df"
   ]
  },
  {
   "cell_type": "code",
   "execution_count": 5,
   "metadata": {
    "id": "nfuzYSi0fKIN"
   },
   "outputs": [],
   "source": [
    "mexican_states = {\n",
    "    1: \"AGUASCALIENTES\",\n",
    "    2: \"BAJA CALIFORNIA\",\n",
    "    3: \"BAJA CALIFORNIA SUR\",\n",
    "    4: \"CAMPECHE\",\n",
    "    5: \"COAHUILA DE ZARAGOZA\",\n",
    "    6: \"COLIMA\",\n",
    "    7: \"CHIAPAS\",\n",
    "    8: \"CHIHUAHUA\",\n",
    "    9: \"DISTRITO FEDERAL\",\n",
    "    10: \"DURANGO\",\n",
    "    11: \"GUANAJUATO\",\n",
    "    12: \"GUERRERO\",\n",
    "    13: \"HIDALGO\",\n",
    "    14: \"JALISCO\",\n",
    "    15: \"MEXICO\",\n",
    "    16: \"MICHOACAN DE OCAMPO\",\n",
    "    17: \"MORELOS\",\n",
    "    18: \"NAYARIT\",\n",
    "    19: \"NUEVO LEON\",\n",
    "    20: \"OAXACA\",\n",
    "    21: \"PUEBLA\",\n",
    "    22: \"QUERETARO DE ARTEAGA\",\n",
    "    23: \"QUINTANA ROO\",\n",
    "    24: \"SAN LUIS POTOSI\",\n",
    "    25: \"SINALOA\",\n",
    "    26: \"SONORA\",\n",
    "    27: \"TABASCO\",\n",
    "    28: \"TAMAULIPAS\",\n",
    "    29: \"TLAXCALA\",\n",
    "    30: \"VERACRUZ DE IGNACIO DE LA LLAVE\",\n",
    "    31: \"YUCATAN\",\n",
    "    32: \"ZACATECAS\"\n",
    "}\n"
   ]
  },
  {
   "cell_type": "code",
   "execution_count": 6,
   "metadata": {
    "colab": {
     "base_uri": "https://localhost:8080/",
     "height": 207
    },
    "id": "7CFCsGY5fLyP",
    "outputId": "407ed047-5248-46dd-ad4f-a946a731eff6"
   },
   "outputs": [
    {
     "ename": "NameError",
     "evalue": "name 'df' is not defined",
     "output_type": "error",
     "traceback": [
      "\u001b[0;31m---------------------------------------------------------------------------\u001b[0m",
      "\u001b[0;31mNameError\u001b[0m                                 Traceback (most recent call last)",
      "\u001b[0;32m<ipython-input-6-9f5f436beb77>\u001b[0m in \u001b[0;36m<cell line: 3>\u001b[0;34m()\u001b[0m\n\u001b[1;32m      1\u001b[0m \u001b[0;31m#Clean data\u001b[0m\u001b[0;34m\u001b[0m\u001b[0;34m\u001b[0m\u001b[0m\n\u001b[1;32m      2\u001b[0m \u001b[0;31m#Change ENT to state names\u001b[0m\u001b[0;34m\u001b[0m\u001b[0;34m\u001b[0m\u001b[0m\n\u001b[0;32m----> 3\u001b[0;31m \u001b[0mdf\u001b[0m\u001b[0;34m[\u001b[0m\u001b[0;34m\"ENT\"\u001b[0m\u001b[0;34m]\u001b[0m \u001b[0;34m=\u001b[0m \u001b[0mdf\u001b[0m\u001b[0;34m[\u001b[0m\u001b[0;34m\"ENT\"\u001b[0m\u001b[0;34m]\u001b[0m\u001b[0;34m.\u001b[0m\u001b[0mastype\u001b[0m\u001b[0;34m(\u001b[0m\u001b[0mint\u001b[0m\u001b[0;34m)\u001b[0m\u001b[0;34m\u001b[0m\u001b[0;34m\u001b[0m\u001b[0m\n\u001b[0m\u001b[1;32m      4\u001b[0m \u001b[0mdf\u001b[0m\u001b[0;34m[\u001b[0m\u001b[0;34m'ENT'\u001b[0m\u001b[0;34m]\u001b[0m \u001b[0;34m=\u001b[0m \u001b[0mdf\u001b[0m\u001b[0;34m[\u001b[0m\u001b[0;34m'ENT'\u001b[0m\u001b[0;34m]\u001b[0m\u001b[0;34m.\u001b[0m\u001b[0mmap\u001b[0m\u001b[0;34m(\u001b[0m\u001b[0mmexican_states\u001b[0m\u001b[0;34m)\u001b[0m\u001b[0;34m\u001b[0m\u001b[0;34m\u001b[0m\u001b[0m\n\u001b[1;32m      5\u001b[0m \u001b[0mdf\u001b[0m\u001b[0;34m\u001b[0m\u001b[0;34m\u001b[0m\u001b[0m\n",
      "\u001b[0;31mNameError\u001b[0m: name 'df' is not defined"
     ]
    }
   ],
   "source": [
    "#Clean data\n",
    "#Change ENT to state names\n",
    "df[\"ENT\"] = df[\"ENT\"].astype(int)\n",
    "df['ENT'] = df['ENT'].map(mexican_states)\n",
    "df\n",
    "\n",
    "#Change 99.90 to NaN for lead levels\n",
    "df['P9'] = df['P9'].astype(float)\n",
    "df['P9'] = np.where(df['P9'] > 40, np.nan, df['P9'])\n",
    "\n",
    "df\n"
   ]
  },
  {
   "cell_type": "code",
   "execution_count": null,
   "metadata": {
    "id": "x6PBb2-8lZi1"
   },
   "outputs": [],
   "source": [
    "# Calculate the mean of the 'P9' column for each group defined by 'ENT'\n",
    "mean_by_ent = df.groupby('ENT')['P9'].mean()\n",
    "sorted_means = mean_by_ent.sort_values(ascending=False)\n",
    "sorted_means.reset_index()"
   ]
  },
  {
   "cell_type": "markdown",
   "metadata": {
    "id": "LZ6xEDMK2xK-"
   },
   "source": [
    "# Blood Lead Levels in 2022 (from ENSANUT)\n",
    "\n",
    "This data came from https://ensanut.insp.mx/encuestas/ensanutcontinua2022/descargas.php.\n",
    "\n",
    "\n",
    "Cuestionario de niveles de plomo en niños de 1 a 4 años de edad y mujeres embarazadas\n",
    "\n",
    "This is the data from the National Survey on Health and Nutrition.\n",
    "\n",
    "desc_mun = municipality\n",
    "\n",
    "pl8\t= Resultado de la segunda medición de plomo (result of the first lead measurement)\n",
    "\n",
    "pl9\t= Resultado de la segunda medición de plomo (result of second lead measurement)\n",
    "\n",
    "Note: The set of basic tabular data here presented corresponds to the direct exploitation of the questions of the ENSANUT 2018 questionnaires. For some topics, the tabular data does not contain the official indicators of the Ministry of Health (SS) and the National Institute of Public Health (INSP). Subsequently, and in a coordinated manner with these institutions, the INEGI will be publishing the data and indicators under the criteria of the SS and the INSP."
   ]
  },
  {
   "cell_type": "code",
   "execution_count": null,
   "metadata": {
    "id": "ZawNCQ6l0V1O"
   },
   "outputs": [],
   "source": [
    "df_2022 = pd.read_excel(\"Data/ensaplomo2022_entrega_w.xlsx\",header=0)\n",
    "df_2022"
   ]
  },
  {
   "cell_type": "code",
   "execution_count": null,
   "metadata": {
    "id": "t3jzFWw-4iyO"
   },
   "outputs": [],
   "source": [
    "mean_by_ent = df_2022.groupby('desc_mun')['pl8'].mean()\n",
    "sorted_means = mean_by_ent.sort_values(ascending=False)\n",
    "sorted_means.reset_index()"
   ]
  },
  {
   "cell_type": "code",
   "execution_count": null,
   "metadata": {
    "id": "u2GGXBkL_eiC"
   },
   "outputs": [],
   "source": [
    "mean = df_2022['pl8'].mean()\n",
    "mean"
   ]
  },
  {
   "cell_type": "code",
   "execution_count": null,
   "metadata": {
    "id": "UPPSDiaF4sZG"
   },
   "outputs": [],
   "source": [
    "#Average levels for entire state of Nueva Leon\n",
    "filtered_df = df_2022[df_2022['desc_ent'] == '19 NUEVO LEÓN']\n",
    "filtered_df['pl8'].mean()"
   ]
  }
 ],
 "metadata": {
  "colab": {
   "provenance": []
  },
  "kernelspec": {
   "display_name": "Python 3 (ipykernel)",
   "language": "python",
   "name": "python3"
  },
  "language_info": {
   "codemirror_mode": {
    "name": "ipython",
    "version": 3
   },
   "file_extension": ".py",
   "mimetype": "text/x-python",
   "name": "python",
   "nbconvert_exporter": "python",
   "pygments_lexer": "ipython3",
   "version": "3.12.2"
  }
 },
 "nbformat": 4,
 "nbformat_minor": 4
}
